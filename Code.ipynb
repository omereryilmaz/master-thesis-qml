{
 "cells": [
  {
   "cell_type": "markdown",
   "metadata": {},
   "source": [
    "## Comparison of Quantum ML and Classical ML\n",
    "\n",
    "Simulation of Detection of Purchasing Behaviors of People Using Supervised Quantum Machine Learning Based on Continous-Variable Model\n"
   ]
  },
  {
   "cell_type": "code",
   "execution_count": 51,
   "metadata": {},
   "outputs": [
    {
     "name": "stdout",
     "output_type": "stream",
     "text": [
      "Connecting to a Cloud Service:  https://qml.azurewebsites.net/api/Alisveris\n",
      "Connected to Cloud Service!\n",
      "The data consists of  21 samples.\n",
      "\n",
      "     Yas  AlisverisSayisi  SatinAldiMi  plus  munis\n",
      "11   1.0              1.0          1.0     1      1\n",
      "12   2.0              2.0          2.0     2      2\n",
      "13   3.0              3.0          3.0     3      3\n",
      "14   4.0              4.0          4.0     4      4\n",
      "15   5.0              5.0          5.0     5      5\n",
      "16   6.0              6.0          6.0     6      6\n",
      "17   7.0              7.0          7.0     7      7\n",
      "18   8.0              8.0          8.0     8      8\n",
      "19   9.0              9.0          9.0     9      9\n",
      "20  10.0             10.0         10.0    10     10\n"
     ]
    }
   ],
   "source": [
    "import pandas as pd\n",
    "import matplotlib.pyplot as plt\n",
    "\n",
    "\n",
    "# Address of WebAPI or file with the JSON extension\n",
    "url = 'https://qml.azurewebsites.net/api/Alisveris'\n",
    "\n",
    "print(\"Connecting to a Cloud Service: \", url)\n",
    "\n",
    "try:\n",
    "    # load data that type of JSON to dataframe\n",
    "    df = pd.read_json(url, orient='columns')\n",
    "\n",
    "\n",
    "    if(df is None):\n",
    "        print(\"Data Not Available!\")\n",
    "    else:\n",
    "        # Yas = Age, AlisverisSayisi = ShoppingCount, SatinAldiMi = PurchaseStatus\n",
    "        df['Yas'] = df['Yas'].astype(float)\n",
    "        df['AlisverisSayisi'] = df['AlisverisSayisi'].astype(float)\n",
    "        df['SatinAldiMi'] = df['SatinAldiMi'].astype(float)\n",
    "\n",
    "        print(\"Connected to Cloud Service!\")\n",
    "        print(\"The data consists of \" ,len(df), \"samples.\\n\")\n",
    "\n",
    "        # show the last 10 data\n",
    "        print(df.tail(10))\n",
    "        # show the first 10 data\n",
    "        # df.head(10)\n",
    "except:\n",
    "    print(\"Not Connected to the Cloud Service!\")   "
   ]
  },
  {
   "cell_type": "code",
   "execution_count": 52,
   "metadata": {},
   "outputs": [
    {
     "data": {
      "image/png": "[encoded data removed]",
      "text/plain": [
       "<Figure size 432x432 with 1 Axes>"
      ]
     },
     "metadata": {
      "needs_background": "light"
     },
     "output_type": "display_data"
    }
   ],
   "source": [
    "# Graphical representation of the purchase status of the product\n",
    "\n",
    "import matplotlib.lines as mlines\n",
    "\n",
    "diziBoyut=len(df['SatinAldiMi'])\n",
    "plt.figure(figsize=(6,6))\n",
    "for i in range(diziBoyut):\n",
    "    if((df['SatinAldiMi'][i])==1.0):\n",
    "        plt.scatter(df['Yas'][i],df['AlisverisSayisi'][i], color='#f1c40f')\n",
    "    else:\n",
    "        plt.scatter(df['Yas'][i],df['AlisverisSayisi'][i], color='#2d3436')\n",
    "\n",
    "plt.ylabel('Person\\'s Annual Average Shopping Count')\n",
    "plt.xlabel('Age')\n",
    "\n",
    "alanlar_line = mlines.Line2D([], [], color='#f1c40f', marker='.', markersize=14, label='Was Bought')\n",
    "almayanlar_line = mlines.Line2D([], [], color='#2d3436', marker='.', markersize=14, label='Wasn\\'t Bought')\n",
    "plt.legend(handles=[alanlar_line,almayanlar_line],loc='upper right')\n",
    "\n",
    "plt.show()"
   ]
  },
  {
   "cell_type": "code",
   "execution_count": 53,
   "metadata": {},
   "outputs": [
    {
     "name": "stdout",
     "output_type": "stream",
     "text": [
      "Amount of training data :\t 15\n",
      "Amount of testing data :\t 6\n"
     ]
    },
    {
     "data": {
      "image/png": "[encoded data removed]",
      "text/plain": [
       "<Figure size 432x432 with 1 Axes>"
      ]
     },
     "metadata": {
      "needs_background": "light"
     },
     "output_type": "display_data"
    }
   ],
   "source": [
    "# We only get data which we need.\n",
    "\n",
    "# Age (Yas) and  Average Shopping Count (AlisverisSayisi) informations\n",
    "x = df.iloc[:, [4,0]].values\n",
    "\n",
    "# Purchase status\n",
    "y = df.iloc[:, 3].values\n",
    "\n",
    "# split data as test (25%) and training (75%)\n",
    "from sklearn.model_selection import train_test_split\n",
    "X_train, X_test, Y_train, Y_test = train_test_split(x, y, test_size = 0.25, random_state = 0)\n",
    "\n",
    "# X_test_pure to be used when new data is tested\n",
    "X_test_pure=X_test\n",
    "print(\"Amount of training data :\\t {}\".format(len(X_train)))\n",
    "print(\"Amount of testing data :\\t {}\".format(len(X_test)))\n",
    "\n",
    "# Distribution of test and training data on graphics\n",
    "plt.figure(figsize=(6,6))\n",
    "plt.ylabel('Person\\'s Annual Average Shopping Count')\n",
    "plt.xlabel('Age')\n",
    "\n",
    "plt.scatter(X_train[:,0],X_train[:,1], color='#2980b9', label='Train')\n",
    "plt.scatter(X_test[:,0],X_test[:,1], color='#c0392b', label='Test')\n",
    "plt.legend(loc='upper right')\n",
    "plt.show()"
   ]
  },
  {
   "cell_type": "code",
   "execution_count": 54,
   "metadata": {},
   "outputs": [
    {
     "data": {
      "image/png": "[encoded data removed]",
      "text/plain": [
       "<Figure size 432x432 with 1 Axes>"
      ]
     },
     "metadata": {
      "needs_background": "light"
     },
     "output_type": "display_data"
    }
   ],
   "source": [
    "# Normalization\n",
    "# Since the independent variables are not in the same unit, the normalization process is applied.\n",
    "\n",
    "from sklearn.preprocessing import MinMaxScaler\n",
    "\n",
    "scaler = MinMaxScaler()\n",
    "\n",
    "MinMaxScaler(copy=True, feature_range=(0, 1))\n",
    "X_train = scaler.fit_transform(X_train)\n",
    "\n",
    "MinMaxScaler(copy=True, feature_range=(0, 1))\n",
    "X_test = scaler.fit_transform(X_test)\n",
    "\n",
    "# Graph of training and test data after normalization\n",
    "plt.figure(figsize=(6,6))\n",
    "plt.ylabel('Person\\'s Annual Average Shopping Count')\n",
    "plt.xlabel('Age')\n",
    "\n",
    "plt.scatter(X_train[:,0],X_train[:,1], color='#2980b9', label='Train')\n",
    "plt.scatter(X_test[:,0],X_test[:,1], color='#c0392b', label='Test')\n",
    "plt.legend(loc='upper right')\n",
    "plt.show()"
   ]
  },
  {
   "cell_type": "markdown",
   "metadata": {},
   "source": [
    "## Quantum Machine Learning\n",
    "\n",
    "### Supervised Learning\n",
    "\n",
    "In this sample of Supervised Learning; between the two classes, the **variational circuit** for 2D pattern recognition task is trained.\n",
    "\n",
    "Firstly, the **Strawberry Fields** library, a few gates, learner and helper imported in the code.\n",
    "\n",
    "##### **Source: ** https://qmlt.readthedocs.io/en/latest/tutorials/numerical.html#supervised-learning\n"
   ]
  },
  {
   "cell_type": "code",
   "execution_count": 3,
   "metadata": {},
   "outputs": [],
   "source": [
    "import strawberryfields as sf\n",
    "from strawberryfields.ops import Dgate, BSgate\n",
    "import numpy as np\n",
    "from qmlt.numerical import CircuitLearner\n",
    "from qmlt.numerical.helpers import make_param\n",
    "from qmlt.numerical.losses import square_loss\n",
    "from utils import *"
   ]
  },
  {
   "cell_type": "code",
   "execution_count": 89,
   "metadata": {},
   "outputs": [],
   "source": [
    "steps = 101\n",
    "batch_size = 2\n",
    "\n",
    "my_init_params = [make_param(name='phi', constant=2.,monitor=True)]"
   ]
  },
  {
   "cell_type": "code",
   "execution_count": 85,
   "metadata": {},
   "outputs": [],
   "source": [
    "# Setting the model hyperparams and training algorithm.\n",
    "hyperparams = {'circuit': circuit,\n",
    "               'init_circuit_params': my_init_params,\n",
    "               'task': 'supervised',\n",
    "               'loss': myloss,\n",
    "               'optimizer': 'SGD',\n",
    "               'init_learning_rate': 0.5,\n",
    "               'decay': 0.01,\n",
    "               'log_every': 5,\n",
    "               'warm_start': False # Not using previous results in the next training.\n",
    "               }"
   ]
  },
  {
   "cell_type": "code",
   "execution_count": 86,
   "metadata": {},
   "outputs": [
    {
     "name": "stdout",
     "output_type": "stream",
     "text": [
      "\n",
      "----------------------------- \n",
      " HYPERPARAMETERS: \n",
      "\n",
      "adaptive_learning_rate_threshold - 0.0 (default value)\n",
      "circuit - User defined function.\n",
      "decay - 0.01\n",
      "epsilon - 1e-06 (default value)\n",
      "init_circuit_params - Values: [2.0].\n",
      "init_learning_rate - 0.5\n",
      "log_every - 5\n",
      "loss - User defined function.\n",
      "optimizer - SGD\n",
      "plot - False (default value)\n",
      "print_log - True (default value)\n",
      "regularization_strength - 0.1 (default value)\n",
      "regularizer - No regularizer provided.\n",
      "task - supervised\n",
      "warm_start - False\n",
      "\n",
      " -----------------------------\n",
      "X<class 'numpy.ndarray'>\n",
      "params<class 'numpy.ndarray'>\n"
     ]
    },
    {
     "ename": "TypeError",
     "evalue": "backend must be a string or a BaseBackend instance.",
     "output_type": "error",
     "traceback": [
      "\u001b[0;31m---------------------------------------------------------------------------\u001b[0m",
      "\u001b[0;31mTypeError\u001b[0m                                 Traceback (most recent call last)",
      "\u001b[0;32m/tmp/ipykernel_31182/2728568030.py\u001b[0m in \u001b[0;36m<module>\u001b[0;34m\u001b[0m\n\u001b[1;32m      3\u001b[0m \u001b[0;34m\u001b[0m\u001b[0m\n\u001b[1;32m      4\u001b[0m \u001b[0;31m# Training of the learner.\u001b[0m\u001b[0;34m\u001b[0m\u001b[0;34m\u001b[0m\u001b[0;34m\u001b[0m\u001b[0m\n\u001b[0;32m----> 5\u001b[0;31m \u001b[0mlearner\u001b[0m\u001b[0;34m.\u001b[0m\u001b[0mtrain_circuit\u001b[0m\u001b[0;34m(\u001b[0m\u001b[0mX\u001b[0m\u001b[0;34m=\u001b[0m\u001b[0mX_train\u001b[0m\u001b[0;34m,\u001b[0m \u001b[0mY\u001b[0m\u001b[0;34m=\u001b[0m\u001b[0mY_train\u001b[0m\u001b[0;34m,\u001b[0m \u001b[0msteps\u001b[0m\u001b[0;34m=\u001b[0m\u001b[0msteps\u001b[0m\u001b[0;34m,\u001b[0m \u001b[0mbatch_size\u001b[0m\u001b[0;34m=\u001b[0m\u001b[0mbatch_size\u001b[0m\u001b[0;34m)\u001b[0m\u001b[0;34m\u001b[0m\u001b[0;34m\u001b[0m\u001b[0m\n\u001b[0m",
      "\u001b[0;32m~/mambaforge/lib/python3.9/site-packages/qmlt/numerical/learner.py\u001b[0m in \u001b[0;36mtrain_circuit\u001b[0;34m(self, X, Y, steps, batch_size, seed)\u001b[0m\n\u001b[1;32m    409\u001b[0m             \u001b[0mfirst_global_step\u001b[0m \u001b[0;34m=\u001b[0m \u001b[0;36m0\u001b[0m\u001b[0;34m\u001b[0m\u001b[0;34m\u001b[0m\u001b[0m\n\u001b[1;32m    410\u001b[0m \u001b[0;34m\u001b[0m\u001b[0m\n\u001b[0;32m--> 411\u001b[0;31m         \u001b[0minit_loss\u001b[0m\u001b[0;34m,\u001b[0m \u001b[0minit_log\u001b[0m \u001b[0;34m=\u001b[0m \u001b[0mloss_and_logs\u001b[0m\u001b[0;34m(\u001b[0m\u001b[0minit_params\u001b[0m\u001b[0;34m,\u001b[0m \u001b[0mX\u001b[0m\u001b[0;34m,\u001b[0m \u001b[0mY\u001b[0m\u001b[0;34m)\u001b[0m\u001b[0;34m\u001b[0m\u001b[0;34m\u001b[0m\u001b[0m\n\u001b[0m\u001b[1;32m    412\u001b[0m         \u001b[0minit_regul\u001b[0m \u001b[0;34m=\u001b[0m \u001b[0mregularizer\u001b[0m\u001b[0;34m(\u001b[0m\u001b[0minit_params\u001b[0m\u001b[0;34m)\u001b[0m\u001b[0;34m\u001b[0m\u001b[0;34m\u001b[0m\u001b[0m\n\u001b[1;32m    413\u001b[0m         \u001b[0minit_cost\u001b[0m \u001b[0;34m=\u001b[0m \u001b[0minit_loss\u001b[0m \u001b[0;34m+\u001b[0m \u001b[0minit_regul\u001b[0m\u001b[0;34m\u001b[0m\u001b[0;34m\u001b[0m\u001b[0m\n",
      "\u001b[0;32m~/mambaforge/lib/python3.9/site-packages/qmlt/numerical/learner.py\u001b[0m in \u001b[0;36mloss_and_logs\u001b[0;34m(params, inputs, targets)\u001b[0m\n\u001b[1;32m    376\u001b[0m \u001b[0;34m\u001b[0m\u001b[0m\n\u001b[1;32m    377\u001b[0m             \u001b[0;32melse\u001b[0m\u001b[0;34m:\u001b[0m\u001b[0;34m\u001b[0m\u001b[0;34m\u001b[0m\u001b[0m\n\u001b[0;32m--> 378\u001b[0;31m                 \u001b[0moutps\u001b[0m \u001b[0;34m=\u001b[0m \u001b[0mcircuit\u001b[0m\u001b[0;34m(\u001b[0m\u001b[0mX\u001b[0m\u001b[0;34m=\u001b[0m\u001b[0minputs\u001b[0m\u001b[0;34m,\u001b[0m \u001b[0mparams\u001b[0m\u001b[0;34m=\u001b[0m\u001b[0mparams\u001b[0m\u001b[0;34m)\u001b[0m\u001b[0;34m\u001b[0m\u001b[0;34m\u001b[0m\u001b[0m\n\u001b[0m\u001b[1;32m    379\u001b[0m                 \u001b[0;32mif\u001b[0m \u001b[0misinstance\u001b[0m\u001b[0;34m(\u001b[0m\u001b[0moutps\u001b[0m\u001b[0;34m,\u001b[0m \u001b[0mtuple\u001b[0m\u001b[0;34m)\u001b[0m\u001b[0;34m:\u001b[0m\u001b[0;34m\u001b[0m\u001b[0;34m\u001b[0m\u001b[0m\n\u001b[1;32m    380\u001b[0m                     \u001b[0moutps\u001b[0m\u001b[0;34m,\u001b[0m \u001b[0mlogs\u001b[0m \u001b[0;34m=\u001b[0m \u001b[0moutps\u001b[0m\u001b[0;34m\u001b[0m\u001b[0;34m\u001b[0m\u001b[0m\n",
      "\u001b[0;32m/tmp/ipykernel_31182/3516475907.py\u001b[0m in \u001b[0;36mcircuit\u001b[0;34m(X, params)\u001b[0m\n\u001b[1;32m      4\u001b[0m     \u001b[0mprint\u001b[0m\u001b[0;34m(\u001b[0m\u001b[0;34m\"params\"\u001b[0m \u001b[0;34m+\u001b[0m \u001b[0mstr\u001b[0m\u001b[0;34m(\u001b[0m\u001b[0mtype\u001b[0m\u001b[0;34m(\u001b[0m\u001b[0mparams\u001b[0m\u001b[0;34m)\u001b[0m\u001b[0;34m)\u001b[0m\u001b[0;34m)\u001b[0m\u001b[0;34m\u001b[0m\u001b[0;34m\u001b[0m\u001b[0m\n\u001b[1;32m      5\u001b[0m \u001b[0;34m\u001b[0m\u001b[0m\n\u001b[0;32m----> 6\u001b[0;31m     \u001b[0meng\u001b[0m\u001b[0;34m,\u001b[0m \u001b[0mq\u001b[0m \u001b[0;34m=\u001b[0m \u001b[0msf\u001b[0m\u001b[0;34m.\u001b[0m\u001b[0mEngine\u001b[0m\u001b[0;34m(\u001b[0m\u001b[0;36m2\u001b[0m\u001b[0;34m)\u001b[0m\u001b[0;34m\u001b[0m\u001b[0;34m\u001b[0m\u001b[0m\n\u001b[0m\u001b[1;32m      7\u001b[0m \u001b[0;34m\u001b[0m\u001b[0m\n\u001b[1;32m      8\u001b[0m     \u001b[0;31m# Since X is a data stack, a circuit is defined for a single input.\u001b[0m\u001b[0;34m\u001b[0m\u001b[0;34m\u001b[0m\u001b[0;34m\u001b[0m\u001b[0m\n",
      "\u001b[0;32m~/mambaforge/lib/python3.9/site-packages/strawberryfields/engine.py\u001b[0m in \u001b[0;36m__init__\u001b[0;34m(self, backend, backend_options)\u001b[0m\n\u001b[1;32m     67\u001b[0m             \u001b[0mself\u001b[0m\u001b[0;34m.\u001b[0m\u001b[0mbackend\u001b[0m \u001b[0;34m=\u001b[0m \u001b[0mbackend\u001b[0m\u001b[0;34m\u001b[0m\u001b[0;34m\u001b[0m\u001b[0m\n\u001b[1;32m     68\u001b[0m         \u001b[0;32melse\u001b[0m\u001b[0;34m:\u001b[0m\u001b[0;34m\u001b[0m\u001b[0;34m\u001b[0m\u001b[0m\n\u001b[0;32m---> 69\u001b[0;31m             \u001b[0;32mraise\u001b[0m \u001b[0mTypeError\u001b[0m\u001b[0;34m(\u001b[0m\u001b[0;34m\"backend must be a string or a BaseBackend instance.\"\u001b[0m\u001b[0;34m)\u001b[0m\u001b[0;34m\u001b[0m\u001b[0;34m\u001b[0m\u001b[0m\n\u001b[0m\u001b[1;32m     70\u001b[0m \u001b[0;34m\u001b[0m\u001b[0m\n\u001b[1;32m     71\u001b[0m     \u001b[0;34m@\u001b[0m\u001b[0mabc\u001b[0m\u001b[0;34m.\u001b[0m\u001b[0mabstractmethod\u001b[0m\u001b[0;34m\u001b[0m\u001b[0;34m\u001b[0m\u001b[0m\n",
      "\u001b[0;31mTypeError\u001b[0m: backend must be a string or a BaseBackend instance."
     ]
    }
   ],
   "source": [
    "# Creation of learner.\n",
    "learner = CircuitLearner(hyperparams=hyperparams)\n",
    "\n",
    "# Training of the learner.\n",
    "learner.train_circuit(X=X_train, Y=Y_train, steps=steps, batch_size=batch_size)\n"
   ]
  },
  {
   "cell_type": "code",
   "execution_count": 69,
   "metadata": {},
   "outputs": [],
   "source": [
    "# In Quantum, the results are always probabilistic, so (if necessary) process (learning) can be repeated.\n",
    "# Re-setting the model hyperparams and training algorithm.\n",
    "hyperparams = {'circuit': circuit,\n",
    "               'init_circuit_params': my_init_params,\n",
    "               'task': 'supervised',\n",
    "               'loss': myloss,\n",
    "               'optimizer': 'SGD',\n",
    "               'init_learning_rate': 0.5,\n",
    "               'decay': 0.01,\n",
    "               'log_every': 500,\n",
    "               'warm_start': True # Using previous results in the next training.              \n",
    "               }"
   ]
  },
  {
   "cell_type": "code",
   "execution_count": 75,
   "metadata": {},
   "outputs": [
    {
     "name": "stdout",
     "output_type": "stream",
     "text": [
      "\n",
      "----------------------------- \n",
      " HYPERPARAMETERS: \n",
      "\n",
      "adaptive_learning_rate_threshold - 0.0\n",
      "circuit - User defined function.\n",
      "decay - 0.01\n",
      "epsilon - 1e-06\n",
      "init_circuit_params - Values: [2.0].\n",
      "init_learning_rate - 0.5\n",
      "log_every - 5\n",
      "loss - User defined function.\n",
      "optimizer - SGD\n",
      "plot - False\n",
      "print_log - True\n",
      "regularization_strength - 0.1\n",
      "regularizer - User defined function.\n",
      "task - supervised\n",
      "warm_start - False\n",
      "\n",
      " -----------------------------\n",
      "X<class 'numpy.ndarray'>\n",
      "params<class 'numpy.ndarray'>\n",
      "x<class 'numpy.ndarray'>\n"
     ]
    },
    {
     "ename": "NameError",
     "evalue": "name 'eng' is not defined",
     "output_type": "error",
     "traceback": [
      "\u001b[0;31m---------------------------------------------------------------------------\u001b[0m",
      "\u001b[0;31mNameError\u001b[0m                                 Traceback (most recent call last)",
      "\u001b[0;32m/tmp/ipykernel_31182/363910390.py\u001b[0m in \u001b[0;36m<module>\u001b[0;34m\u001b[0m\n\u001b[1;32m      3\u001b[0m \u001b[0;34m\u001b[0m\u001b[0m\n\u001b[1;32m      4\u001b[0m \u001b[0;31m# Evaluation of the score of the test data set.\u001b[0m\u001b[0;34m\u001b[0m\u001b[0;34m\u001b[0m\u001b[0;34m\u001b[0m\u001b[0m\n\u001b[0;32m----> 5\u001b[0;31m \u001b[0mtest_score\u001b[0m \u001b[0;34m=\u001b[0m \u001b[0mlearner\u001b[0m\u001b[0;34m.\u001b[0m\u001b[0mscore_circuit\u001b[0m\u001b[0;34m(\u001b[0m\u001b[0mX\u001b[0m\u001b[0;34m=\u001b[0m\u001b[0mX_test\u001b[0m\u001b[0;34m,\u001b[0m \u001b[0mY\u001b[0m\u001b[0;34m=\u001b[0m\u001b[0mY_test\u001b[0m\u001b[0;34m,\u001b[0m \u001b[0moutputs_to_predictions\u001b[0m\u001b[0;34m=\u001b[0m\u001b[0moutputs_to_predictions\u001b[0m\u001b[0;34m)\u001b[0m\u001b[0;34m\u001b[0m\u001b[0;34m\u001b[0m\u001b[0m\n\u001b[0m\u001b[1;32m      6\u001b[0m \u001b[0mkuantum_dogruluk_orani\u001b[0m\u001b[0;34m=\u001b[0m\u001b[0;36m100\u001b[0m\u001b[0;34m*\u001b[0m\u001b[0mtest_score\u001b[0m\u001b[0;34m[\u001b[0m\u001b[0;34m'accuracy'\u001b[0m\u001b[0;34m]\u001b[0m\u001b[0;34m\u001b[0m\u001b[0;34m\u001b[0m\u001b[0m\n\u001b[1;32m      7\u001b[0m \u001b[0;34m\u001b[0m\u001b[0m\n",
      "\u001b[0;32m~/mambaforge/lib/python3.9/site-packages/qmlt/numerical/learner.py\u001b[0m in \u001b[0;36mscore_circuit\u001b[0;34m(self, X, Y, outputs_to_predictions)\u001b[0m\n\u001b[1;32m    698\u001b[0m \u001b[0;34m\u001b[0m\u001b[0m\n\u001b[1;32m    699\u001b[0m         \u001b[0;32melif\u001b[0m \u001b[0mtask\u001b[0m \u001b[0;34m==\u001b[0m \u001b[0;34m'supervised'\u001b[0m\u001b[0;34m:\u001b[0m\u001b[0;34m\u001b[0m\u001b[0;34m\u001b[0m\u001b[0m\n\u001b[0;32m--> 700\u001b[0;31m             \u001b[0moutps\u001b[0m \u001b[0;34m=\u001b[0m \u001b[0mcircuit\u001b[0m\u001b[0;34m(\u001b[0m\u001b[0mX\u001b[0m\u001b[0;34m=\u001b[0m\u001b[0mX\u001b[0m\u001b[0;34m,\u001b[0m \u001b[0mparams\u001b[0m\u001b[0;34m=\u001b[0m\u001b[0mcurrent_params\u001b[0m\u001b[0;34m)\u001b[0m\u001b[0;34m\u001b[0m\u001b[0;34m\u001b[0m\u001b[0m\n\u001b[0m\u001b[1;32m    701\u001b[0m             \u001b[0;32mif\u001b[0m \u001b[0misinstance\u001b[0m\u001b[0;34m(\u001b[0m\u001b[0moutps\u001b[0m\u001b[0;34m,\u001b[0m \u001b[0mtuple\u001b[0m\u001b[0;34m)\u001b[0m\u001b[0;34m:\u001b[0m\u001b[0;34m\u001b[0m\u001b[0;34m\u001b[0m\u001b[0m\n\u001b[1;32m    702\u001b[0m                 \u001b[0moutps\u001b[0m\u001b[0;34m,\u001b[0m \u001b[0mlogs\u001b[0m \u001b[0;34m=\u001b[0m \u001b[0moutps\u001b[0m\u001b[0;34m\u001b[0m\u001b[0;34m\u001b[0m\u001b[0m\n",
      "\u001b[0;32m/tmp/ipykernel_31182/2545512322.py\u001b[0m in \u001b[0;36mcircuit\u001b[0;34m(X, params)\u001b[0m\n\u001b[1;32m     28\u001b[0m \u001b[0;34m\u001b[0m\u001b[0m\n\u001b[1;32m     29\u001b[0m     \u001b[0;31m# Implament of data stack to the circuit one by one.\u001b[0m\u001b[0;34m\u001b[0m\u001b[0;34m\u001b[0m\u001b[0;34m\u001b[0m\u001b[0m\n\u001b[0;32m---> 30\u001b[0;31m     \u001b[0mcircuit_output\u001b[0m \u001b[0;34m=\u001b[0m \u001b[0;34m[\u001b[0m\u001b[0msingle_input_circuit\u001b[0m\u001b[0;34m(\u001b[0m\u001b[0mx\u001b[0m\u001b[0;34m)\u001b[0m \u001b[0;32mfor\u001b[0m \u001b[0mx\u001b[0m \u001b[0;32min\u001b[0m \u001b[0mX\u001b[0m\u001b[0;34m]\u001b[0m\u001b[0;34m\u001b[0m\u001b[0;34m\u001b[0m\u001b[0m\n\u001b[0m\u001b[1;32m     31\u001b[0m \u001b[0;34m\u001b[0m\u001b[0m\n\u001b[1;32m     32\u001b[0m     \u001b[0;32mreturn\u001b[0m \u001b[0mcircuit_output\u001b[0m\u001b[0;34m\u001b[0m\u001b[0;34m\u001b[0m\u001b[0m\n",
      "\u001b[0;32m/tmp/ipykernel_31182/2545512322.py\u001b[0m in \u001b[0;36m<listcomp>\u001b[0;34m(.0)\u001b[0m\n\u001b[1;32m     28\u001b[0m \u001b[0;34m\u001b[0m\u001b[0m\n\u001b[1;32m     29\u001b[0m     \u001b[0;31m# Implament of data stack to the circuit one by one.\u001b[0m\u001b[0;34m\u001b[0m\u001b[0;34m\u001b[0m\u001b[0;34m\u001b[0m\u001b[0m\n\u001b[0;32m---> 30\u001b[0;31m     \u001b[0mcircuit_output\u001b[0m \u001b[0;34m=\u001b[0m \u001b[0;34m[\u001b[0m\u001b[0msingle_input_circuit\u001b[0m\u001b[0;34m(\u001b[0m\u001b[0mx\u001b[0m\u001b[0;34m)\u001b[0m \u001b[0;32mfor\u001b[0m \u001b[0mx\u001b[0m \u001b[0;32min\u001b[0m \u001b[0mX\u001b[0m\u001b[0;34m]\u001b[0m\u001b[0;34m\u001b[0m\u001b[0;34m\u001b[0m\u001b[0m\n\u001b[0m\u001b[1;32m     31\u001b[0m \u001b[0;34m\u001b[0m\u001b[0m\n\u001b[1;32m     32\u001b[0m     \u001b[0;32mreturn\u001b[0m \u001b[0mcircuit_output\u001b[0m\u001b[0;34m\u001b[0m\u001b[0;34m\u001b[0m\u001b[0m\n",
      "\u001b[0;32m/tmp/ipykernel_31182/2545512322.py\u001b[0m in \u001b[0;36msingle_input_circuit\u001b[0;34m(x)\u001b[0m\n\u001b[1;32m     10\u001b[0m         \u001b[0mprint\u001b[0m\u001b[0;34m(\u001b[0m\u001b[0;34m\"x\"\u001b[0m \u001b[0;34m+\u001b[0m \u001b[0mstr\u001b[0m\u001b[0;34m(\u001b[0m\u001b[0mtype\u001b[0m\u001b[0;34m(\u001b[0m\u001b[0mx\u001b[0m\u001b[0;34m)\u001b[0m\u001b[0;34m)\u001b[0m\u001b[0;34m)\u001b[0m\u001b[0;34m\u001b[0m\u001b[0;34m\u001b[0m\u001b[0m\n\u001b[1;32m     11\u001b[0m \u001b[0;34m\u001b[0m\u001b[0m\n\u001b[0;32m---> 12\u001b[0;31m         \u001b[0meng\u001b[0m\u001b[0;34m.\u001b[0m\u001b[0mreset\u001b[0m\u001b[0;34m(\u001b[0m\u001b[0;34m)\u001b[0m\u001b[0;34m\u001b[0m\u001b[0;34m\u001b[0m\u001b[0m\n\u001b[0m\u001b[1;32m     13\u001b[0m         \u001b[0;32mwith\u001b[0m \u001b[0meng\u001b[0m\u001b[0;34m:\u001b[0m\u001b[0;34m\u001b[0m\u001b[0;34m\u001b[0m\u001b[0m\n\u001b[1;32m     14\u001b[0m             \u001b[0mDgate\u001b[0m\u001b[0;34m(\u001b[0m\u001b[0mx\u001b[0m\u001b[0;34m[\u001b[0m\u001b[0;36m0\u001b[0m\u001b[0;34m]\u001b[0m\u001b[0;34m,\u001b[0m \u001b[0;36m0.\u001b[0m\u001b[0;34m)\u001b[0m \u001b[0;34m|\u001b[0m \u001b[0mq\u001b[0m\u001b[0;34m[\u001b[0m\u001b[0;36m0\u001b[0m\u001b[0;34m]\u001b[0m\u001b[0;34m\u001b[0m\u001b[0;34m\u001b[0m\u001b[0m\n",
      "\u001b[0;31mNameError\u001b[0m: name 'eng' is not defined"
     ]
    }
   ],
   "source": [
    "# Re-Creation of learner with new paremeters.\n",
    "learner = CircuitLearner(hyperparams=hyperparams)\n",
    "\n",
    "# Evaluation of the score of the test data set.\n",
    "test_score = learner.score_circuit(X=X_test, Y=Y_test, outputs_to_predictions=outputs_to_predictions)\n",
    "kuantum_dogruluk_orani=100*test_score['accuracy']\n",
    "\n",
    "# If the desired result is not achieved, continue with the training.\n",
    "while(kuantum_dogruluk_orani<92):\n",
    "    # Training of the learner.\n",
    "    learner.train_circuit(X=X_train, Y=Y_train, steps=steps, batch_size=batch_size)\n",
    "    # Evaluation of the score of the test data set.\n",
    "    test_score = learner.score_circuit(X=X_test, Y=Y_test, outputs_to_predictions=outputs_to_predictions)\n",
    "    kuantum_dogruluk_orani=100*test_score['accuracy']\n",
    "    \n",
    "print(\"Quantum ML Accuracy Rate:\\t % {}\".format(kuantum_dogruluk_orani))"
   ]
  },
  {
   "cell_type": "markdown",
   "metadata": {},
   "source": [
    "# Classical Machine Learning\n",
    "## Supervised Learning\n",
    "Classification with Support Vector Machine (SVM) algorithm"
   ]
  },
  {
   "cell_type": "code",
   "execution_count": 14,
   "metadata": {},
   "outputs": [
    {
     "data": {
      "text/plain": [
       "SVC(C=1.0, cache_size=200, class_weight=None, coef0=0.0,\n",
       "  decision_function_shape='ovr', degree=3, gamma='auto', kernel='linear',\n",
       "  max_iter=-1, probability=False, random_state=0, shrinking=True,\n",
       "  tol=0.001, verbose=False)"
      ]
     },
     "execution_count": 14,
     "metadata": {},
     "output_type": "execute_result"
    }
   ],
   "source": [
    "# Creating and training SVM model\n",
    "\n",
    "from sklearn.svm import SVC\n",
    "classifier_c = SVC(kernel='linear', random_state = 0)\n",
    "classifier_c.fit(X_train, Y_train)"
   ]
  },
  {
   "cell_type": "code",
   "execution_count": 15,
   "metadata": {},
   "outputs": [
    {
     "name": "stdout",
     "output_type": "stream",
     "text": [
      "\n",
      "\n",
      "Total count of test dataset :  53\n",
      "\n",
      "\n",
      "Values of Classical ML Confusion Matrix\n",
      "_____________________________________\n",
      "\n",
      "True Prediction Count (TP+TN)  :  46\n",
      "False Prediction Count (FP+FN) :  7\n",
      "TP :  17\n",
      "TN :  29\n",
      "FP :  1\n",
      "FN :  6\n",
      "\n",
      "\n",
      "\n",
      "Values of Quantum ML Confusion Matrix\n",
      "_____________________________________\n",
      "\n",
      "True Prediction Count (TP+TN)  :  49\n",
      "False Prediction Count (FP+FN) :  4\n",
      "TP : 21\n",
      "TN : 28\n",
      "FP : 2\n",
      "FN : 2\n",
      "\n",
      "\n",
      "\n",
      "Classical ML Accuracy Rate:\t %86.8\n",
      "Quantum ML Accuracy Rate:\t %92.5\n"
     ]
    }
   ],
   "source": [
    "# Definition of the Confusion Matrix\n",
    "\n",
    "# confusion_matrix(y_true, y_pred, labels=None, sample_weight=None)\n",
    "# Confusion Matrix: Used to calculate the accuracy of a classification process.\n",
    "# For binary classification;\n",
    "# Count of true negatives  C[0,0] -> count of of matches 0-0 \n",
    "# Count of false negatives C[1,0] -> count of of matches 1-0 \n",
    "# Count of true positives  C[1,1] -> count of of matches 1-1 \n",
    "# Count of false positives C[0,1] -> count of of matches 0-1 \n",
    "\n",
    "# Creation of Confusion Matrix for Classial Machine Learning\n",
    "\n",
    "from sklearn.metrics import confusion_matrix\n",
    "\n",
    "klasik_TP = klasik_TN = klasik_FP = klasik_FN = 0\n",
    "\n",
    "Y_pred_class = classifier_c.predict(X_test)\n",
    "cm = confusion_matrix(Y_test, Y_pred_class)\n",
    "# print(cm)\n",
    "\n",
    "klasik_TP = cm[1][1]\n",
    "klasik_TN = cm[0][0]\n",
    "klasik_FP = cm[0][1]\n",
    "klasik_FN = cm[1][0]\n",
    "\n",
    "true_p = cm[0][0]+cm[1][1]\n",
    "false_p = cm[0][1]+cm[1][0]\n",
    "klasik_dogruluk_orani=(true_p*100)/len(Y_test)\n",
    "\n",
    "#############################################################\n",
    "\n",
    "# Creation of Confusion Matrix for Quantum Machine Learning\n",
    "\n",
    "TahminiDeger = GercekDeger = 0.0\n",
    "TestVeriSayisi = Bildi = Bilemedi = 0\n",
    "kuantum_TP = kuantum_TN = kuantum_FP = kuantum_FN = 0\n",
    "\n",
    "\n",
    "kuantum_y_tahmin=[]\n",
    "\n",
    "for i in range(len(X_test)):\n",
    "    GercekDeger=Y_test[i]\n",
    "    outcomes = learner.run_circuit(X=X_test[[i]], outputs_to_predictions=outputs_to_predictions)\n",
    "    TahminiDeger=outcomes['predictions'][0]\n",
    "    kuantum_y_tahmin.append(outcomes['predictions'][0])\n",
    "    if GercekDeger==TahminiDeger:\n",
    "        Bildi+=1\n",
    "        if(GercekDeger==1.0):\n",
    "            kuantum_TP+=1;\n",
    "        else:\n",
    "            kuantum_TN+=1;\n",
    "    else:\n",
    "        Bilemedi+=1\n",
    "        if(GercekDeger==1.0):\n",
    "            kuantum_FP+=1;\n",
    "        else:\n",
    "            kuantum_FN+=1;\n",
    "\n",
    "TestVeriSayisi = len(X_test)\n",
    "            \n",
    "print(\"\\n\")\n",
    "print(\"Total count of test dataset : \", TestVeriSayisi)\n",
    "print(\"\\n\")\n",
    "\n",
    "print(\"Values of Classical ML Confusion Matrix\\n_____________________________________\\n\")\n",
    "print(\"True Prediction Count (TP+TN)  : \",true_p)\n",
    "print(\"False Prediction Count (FP+FN) : \",false_p)\n",
    "print(\"TP : \",klasik_TP)\n",
    "print(\"TN : \",klasik_TN)\n",
    "print(\"FP : \",klasik_FP)\n",
    "print(\"FN : \",klasik_FN)\n",
    "\n",
    "print(\"\\n\\n\")\n",
    "\n",
    "print(\"Values of Quantum ML Confusion Matrix\\n_____________________________________\\n\")\n",
    "print(\"True Prediction Count (TP+TN)  : \",Bildi)\n",
    "print(\"False Prediction Count (FP+FN) : \",Bilemedi)\n",
    "print(\"TP :\",kuantum_TP)\n",
    "print(\"TN :\",kuantum_TN)\n",
    "print(\"FP :\",kuantum_FP)\n",
    "print(\"FN :\",kuantum_FN)\n",
    "\n",
    "print(\"\\n\\n\")\n",
    "\n",
    "print(\"Classical ML Accuracy Rate:\\t %{}\".format(round(klasik_dogruluk_orani,1)))\n",
    "print(\"Quantum ML Accuracy Rate:\\t %{}\".format(round(kuantum_dogruluk_orani,1)))"
   ]
  },
  {
   "cell_type": "code",
   "execution_count": 16,
   "metadata": {},
   "outputs": [
    {
     "name": "stdout",
     "output_type": "stream",
     "text": [
      "Accuracy\n",
      "___________________\n",
      "\n",
      "Classical :  0.87\n",
      "Quantum   :  0.92\n",
      "\n",
      "\n",
      "Error Rate\n",
      "___________________\n",
      "\n",
      "Classical :  0.13\n",
      "Quantum   :  0.08\n",
      "\n",
      "\n",
      "Recall - Sensivity - True Positive Rate\n",
      "___________________\n",
      "\n",
      "Classical :  0.74\n",
      "Quantum   :  0.91\n",
      "\n",
      "\n",
      "Specificity - True Negative Rate\n",
      "___________________\n",
      "\n",
      "Classical :  0.97\n",
      "Quantum   :  0.93\n",
      "\n",
      "\n",
      "False Positive Rate (1 - Specificity)\n",
      "___________________\n",
      "\n",
      "Classical :  0.03\n",
      "Quantum   :  0.07\n",
      "\n",
      "\n",
      "Precision\n",
      "___________________\n",
      "\n",
      "Classical :  0.94\n",
      "Quantum   :  0.91\n",
      "\n",
      "\n"
     ]
    }
   ],
   "source": [
    "# Accuracy rate of the Classifier\n",
    "print(\"Accuracy\\n___________________\\n\")\n",
    "print(\"Classical : \",round((klasik_TP+klasik_TN)/TestVeriSayisi, 2))\n",
    "print(\"Quantum   : \",round((kuantum_TP+kuantum_TN)/TestVeriSayisi, 2))\n",
    "\n",
    "print(\"\\n\")\n",
    "# Error Rate of the Classifier\n",
    "print(\"Error Rate\\n___________________\\n\")\n",
    "print(\"Classical : \",round((klasik_FP+klasik_FN)/TestVeriSayisi, 2))\n",
    "print(\"Quantum   : \",round((kuantum_FP+kuantum_FN)/TestVeriSayisi, 2))\n",
    "\n",
    "print(\"\\n\")\n",
    "# When the \"Positive\" is real, which is often estimated \"Positive\"\n",
    "print(\"Recall - Sensivity - True Positive Rate\\n___________________\\n\")\n",
    "print(\"Classical : \",round((klasik_TP)/(klasik_TP+klasik_FN), 2))\n",
    "print(\"Quantum   : \",round((kuantum_TP)/(kuantum_TP+kuantum_FN), 2))\n",
    "\n",
    "print(\"\\n\")\n",
    "# When the \"Negative\" is real, which is often estimated \"Negative\"\n",
    "print(\"Specificity - True Negative Rate\\n___________________\\n\")\n",
    "print(\"Classical : \",round((klasik_TN)/(klasik_FP+klasik_TN), 2))\n",
    "print(\"Quantum   : \",round((kuantum_TN)/(kuantum_FP+kuantum_TN), 2))\n",
    "\n",
    "print(\"\\n\")\n",
    "# When the \"Negative\" is real, which is often estimated \"Positive\"\n",
    "print(\"False Positive Rate (1 - Specificity)\\n___________________\\n\")\n",
    "print(\"Classical : \",round((klasik_FP)/(klasik_FP+klasik_TN), 2))\n",
    "print(\"Quantum   : \",round((kuantum_FP)/(kuantum_FP+kuantum_TN), 2))\n",
    "\n",
    "print(\"\\n\")\n",
    "# \"Positive\" forecast accuracy rate\n",
    "print(\"Precision\\n___________________\\n\")\n",
    "print(\"Classical : \",round((klasik_TP)/(klasik_TP+klasik_FP), 2))\n",
    "print(\"Quantum   : \",round((kuantum_TP)/(kuantum_TP+kuantum_FP), 2))\n",
    "\n",
    "print(\"\\n\")"
   ]
  },
  {
   "cell_type": "code",
   "execution_count": 17,
   "metadata": {},
   "outputs": [
    {
     "name": "stdout",
     "output_type": "stream",
     "text": [
      "Classical AUC : 0.853\n",
      "Quantum AUC   : 0.923\n"
     ]
    },
    {
     "data": {
      "image/png": "[encoded data removed]",
      "text/plain": [
       "<Figure size 936x432 with 2 Axes>"
      ]
     },
     "metadata": {},
     "output_type": "display_data"
    }
   ],
   "source": [
    "from sklearn.metrics import roc_curve\n",
    "from sklearn.metrics import roc_auc_score\n",
    "\n",
    "\n",
    "klasik_y_tahmin = Y_pred_class #Classial ML predictions\n",
    "\n",
    "\n",
    "klasik_auc = roc_auc_score(Y_test, klasik_y_tahmin)\n",
    "print('Classical AUC : %.3f' % klasik_auc)\n",
    "fpr, tpr, thresholds = roc_curve(Y_test, klasik_y_tahmin)\n",
    "\n",
    "kuantum_auc = roc_auc_score(Y_test, kuantum_y_tahmin)\n",
    "print('Quantum AUC   : %.3f' % kuantum_auc)\n",
    "qfpr, qtpr, qthresholds = roc_curve(Y_test, kuantum_y_tahmin)\n",
    "\n",
    "\n",
    "f, (ax1, ax2) = plt.subplots(1, 2, figsize=(13,6))\n",
    "\n",
    "ax1.plot([0, 1], [0, 1], linestyle='--', color='#f39c12')\n",
    "ax1.plot(fpr, tpr, marker='.',color='#c0392b')\n",
    "ax1.set_title(\"Classical Machine Learning ROC Curve\", fontsize=15)\n",
    "ax1.set_ylabel('True Positive Rate', fontsize=13)\n",
    "ax1.set_xlabel('False Positive Rate', fontsize=13)\n",
    "ax1.grid()\n",
    "ax1.legend([\"Separation Line\",\"Classical AUC = %.3f\"%klasik_auc], fontsize=13, loc=4)\n",
    "\n",
    "ax2.plot([0, 1], [0, 1], linestyle='--', color='#f39c12')\n",
    "ax2.plot(qfpr, qtpr, marker='.',color='#2980b9')\n",
    "ax2.set_title(\"Quantum Machine Learning ROC Curve\", fontsize=15)\n",
    "ax2.set_ylabel('True Positive Rate', fontsize=13)\n",
    "ax2.set_xlabel('False Positive Rate', fontsize=13)\n",
    "ax2.grid()\n",
    "ax2.legend([\"Separation Line\", \"Quantum AUC = %.3f\"%kuantum_auc], fontsize=13, loc=4)\n",
    "\n",
    "plt.show()\n"
   ]
  },
  {
   "cell_type": "code",
   "execution_count": 18,
   "metadata": {},
   "outputs": [
    {
     "name": "stdout",
     "output_type": "stream",
     "text": [
      "Age : 35\n",
      "Annual Average Shopping Count : 30\n",
      "The normalization process is applied to new inputs :  [[0.40350877 0.73529412]]\n",
      "\n",
      "According to Classical ML which have 86.8 accurancy rate, customer; May buy product.\n",
      "\n",
      "According to Quantum ML which have 92.5 accurancy rate, customer  ; May buy product.\n"
     ]
    },
    {
     "data": {
      "image/png": "[encoded data removed]",
      "text/plain": [
       "<Figure size 432x432 with 1 Axes>"
      ]
     },
     "metadata": {},
     "output_type": "display_data"
    }
   ],
   "source": [
    "# Predict to whether or not this user is buying by user information entered from external.\n",
    "\n",
    "yas =float(input(\"Age : \")) \n",
    "maas = float (input(\"Annual Average Shopping Count : \"))\n",
    "\n",
    "newrow = [[yas, maas]]\n",
    "\n",
    "# Adding the latest data to the test dataset for normalization\n",
    "X_test_pure = np.concatenate((X_test_pure,newrow))\n",
    "\n",
    "\n",
    "# Normalization of test dataset\n",
    "X_test_sc = scaler.fit_transform(X_test_pure)\n",
    "\n",
    "# The normalization process is applied to new inputs:\n",
    "print(\"The normalization process is applied to new inputs : \",X_test_sc[[-1]])\n",
    "\n",
    "# Send to Quantum ML the latest added data X_test_sc[-1]\n",
    "outcomes = learner.run_circuit(X=X_test_sc[[-1]], outputs_to_predictions=outputs_to_predictions)\n",
    "\n",
    "\n",
    "sonuc=\"\"\n",
    "     \n",
    "\n",
    "print(\"\\nAccording to Classical ML which have {} accurancy rate, customer;{}\".format(round(klasik_dogruluk_orani,1),sonucugor(classifier_c.predict(X_test_sc[[-1]]))))\n",
    "print(\"\\nAccording to Quantum ML which have {} accurancy rate, customer  ;{}\".format(round(kuantum_dogruluk_orani,1),sonucugor(outcomes['predictions'][0])))      \n",
    "\n",
    "new_data=X_test_sc[-1]\n",
    "\n",
    "plt.figure(figsize=(6,6))\n",
    "\n",
    "for i in range(len(X_train)):\n",
    "    if((Y_train[i])==1.0):\n",
    "        plt.scatter(X_train[i][0],X_train[i][1], color='#f1c40f')\n",
    "    else:\n",
    "        plt.scatter(X_train[i][0],X_train[i][1],  color='#2d3436')\n",
    "\n",
    "plt.scatter(new_data[0],new_data[1], color='#2ecc71')\n",
    "\n",
    "plt.ylabel('Tahmini Maas')\n",
    "plt.xlabel('Yas')\n",
    "\n",
    "alanlar_line = mlines.Line2D([], [], color='#f1c40f', marker='.', markersize=14, label='Was bought')\n",
    "almayanlar_line = mlines.Line2D([], [], color='#2d3436', marker='.', markersize=14, label='Wasn\\'t bought')\n",
    "new = mlines.Line2D([], [], color='#2ecc71', marker='.', markersize=14, label='New Customer')\n",
    "\n",
    "plt.legend(handles=[alanlar_line,almayanlar_line,new],loc='lower right')\n",
    "\n",
    "plt.show()"
   ]
  },
  {
   "cell_type": "code",
   "execution_count": null,
   "metadata": {},
   "outputs": [],
   "source": []
  }
 ],
 "metadata": {
  "kernelspec": {
   "display_name": "Python 3 (ipykernel)",
   "language": "python",
   "name": "python3"
  },
  "language_info": {
   "codemirror_mode": {
    "name": "ipython",
    "version": 3
   },
   "file_extension": ".py",
   "mimetype": "text/x-python",
   "name": "python",
   "nbconvert_exporter": "python",
   "pygments_lexer": "ipython3",
   "version": "3.9.6"
  }
 },
 "nbformat": 4,
 "nbformat_minor": 4
}
